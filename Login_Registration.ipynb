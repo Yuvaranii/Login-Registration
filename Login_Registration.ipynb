{
  "nbformat": 4,
  "nbformat_minor": 0,
  "metadata": {
    "colab": {
      "provenance": [],
      "collapsed_sections": [],
      "authorship_tag": "ABX9TyN4sW6XW6A5Kd93fvLDZSaq",
      "include_colab_link": true
    },
    "kernelspec": {
      "name": "python3",
      "display_name": "Python 3"
    },
    "language_info": {
      "name": "python"
    }
  },
  "cells": [
    {
      "cell_type": "markdown",
      "metadata": {
        "id": "view-in-github",
        "colab_type": "text"
      },
      "source": [
        "<a href=\"https://colab.research.google.com/github/Yuvaranii/Login-Registration/blob/main/Login_Registration.ipynb\" target=\"_parent\"><img src=\"https://colab.research.google.com/assets/colab-badge.svg\" alt=\"Open In Colab\"/></a>"
      ]
    },
    {
      "cell_type": "code",
      "source": [
        "import re\n",
        "def Welcome ():\n",
        "  print (\"Login or Register\")\n",
        "  Option = input (\"Enter the Option: \\n\" )\n",
        "  if (Option == \"Login\")  or (Option ==  \"login\"):\n",
        "    Login()\n",
        "  elif (Option == \"Register\") or (Option == \"register\"):\n",
        "    Register()\n",
        "  else:\n",
        "    print (\"Enter the Valid Option, either Register or Login\")\n",
        "    Welcome()\n",
        "def Login():\n",
        "  login = input (\"Enter the User Name or Email ID: \\n\")\n",
        "  Username = \"^[a-z A-Z][a-zA-Z0-9-_]+@[a-zA-Z0-9]+\\.[a-z]{2,3}$\"\n",
        "  if re.match (Username,login):\n",
        "      print (\"Valid Password which contains One Special Character, One UpperCase, One LowerCase, One Digit with the length of (5-16)\")\n",
        "      PW = input (\"Enter the password: \\n\")\n",
        "      Password = \"^(?=.*?[A-Z])(?=.*?[a-z])(?=.*?[0-9])(?=.*?[#?!@$%^&*-_]).{6,16}\"\n",
        "      if re.match(Password,PW):\n",
        "        db = open(\"Credentials.txt\",\"r\")\n",
        "        User_Name = []\n",
        "        Pass_Word = []\n",
        "        for i in db:\n",
        "          a,b = i.split(\",\")\n",
        "          b = b.strip()\n",
        "          User_Name.append(a)\n",
        "          Pass_Word.append(b)\n",
        "        Data = dict(zip (User_Name , Pass_Word))\n",
        "        if login in User_Name:\n",
        "          if PW == Data[login]:\n",
        "            print (\"Loggedin Successfully\")\n",
        "          else:\n",
        "            print (\"Forgot Password - Y or N\")\n",
        "            FG = input()\n",
        "            if (FG== \"Y\") or (FG == \"y\"):\n",
        "              print (Data[login])\n",
        "            elif(FG== \"N\") or (FG == \"n\"):\n",
        "              Login()\n",
        "            else:\n",
        "              print (\"Enter the valid input\")\n",
        "        else:\n",
        "          print (\"User Name does not exist\")\n",
        "          print (\"Please do Register\")\n",
        "          Register()\n",
        "def Register():\n",
        "  db = open(\"Credentials.txt\",\"a\")\n",
        "  login = input (\"Enter the User Name or Email ID: \\n\")\n",
        "  Username = \"^[a-z A-Z][a-zA-Z0-9-_]+@[a-zA-Z0-9]+\\.[a-z]{2,3}$\"\n",
        "  if re.match (Username,login):\n",
        "    print (\"Valid Password which contains One Special Character, One UpperCase, One LowerCase, One Digit with the length of (5-16)\")\n",
        "    PW = input (\"Enter the password: \\n\")\n",
        "    Password = \"^(?=.*?[A-Z])(?=.*?[a-z])(?=.*?[0-9])(?=.*?[#?!@$%^&*-_]).{6,16}\"\n",
        "    if re.match(Password,PW):\n",
        "      db = open(\"Credentials.txt\",\"r\")\n",
        "      User_Name = []\n",
        "      Pass_Word = []\n",
        "      for i in db:\n",
        "        a,b = i.split(\",\")\n",
        "        b = b.strip()\n",
        "        User_Name.append(a)\n",
        "        Pass_Word.append(b)\n",
        "      Data = dict(zip (User_Name , Pass_Word))\n",
        "      if login in User_Name:\n",
        "        print (\"User Name already exists\")\n",
        "        print (\"Please do login\")\n",
        "        Login()\n",
        "      else:\n",
        "        db = open(\"Credentials.txt\",\"a\")\n",
        "        db.write (login+ \",\" +PW+ \"\\n\")\n",
        "        print (\"Successfully Registered\")\n",
        "\n",
        "Welcome ()"
      ],
      "metadata": {
        "colab": {
          "base_uri": "https://localhost:8080/"
        },
        "id": "N6TyYoV7um34",
        "outputId": "427e7dc6-7830-446e-8e34-c37edfb359ca"
      },
      "execution_count": null,
      "outputs": [
        {
          "output_type": "stream",
          "name": "stdout",
          "text": [
            "Login or Register\n",
            "Enter the Option: \n",
            "Login\n",
            "Enter the User Name or Email ID: \n",
            "Yuva@val.com\n",
            "Valid Password which contains One Special Character, One UpperCase, One LowerCase, One Digit with the length of (5-16)\n",
            "Enter the password: \n",
            "Yuva#123\n",
            "User Name does not exist\n",
            "Please do Register\n",
            "Enter the User Name or Email ID: \n",
            "Yuva@gmail.com\n",
            "Valid Password which contains One Special Character, One UpperCase, One LowerCase, One Digit with the length of (5-16)\n",
            "Enter the password: \n",
            "Yuva@123\n",
            "User Name already exists\n",
            "Please do login\n",
            "Enter the User Name or Email ID: \n",
            "Yuva@gmail.com\n",
            "Valid Password which contains One Special Character, One UpperCase, One LowerCase, One Digit with the length of (5-16)\n",
            "Enter the password: \n",
            "Yuva@123\n",
            "Loggedin Successfully\n"
          ]
        }
      ]
    }
  ]
}